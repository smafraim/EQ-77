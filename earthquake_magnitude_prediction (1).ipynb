{
 "cells": [
  {
   "cell_type": "markdown",
   "id": "9fd76ba6",
   "metadata": {},
   "source": [
    "# Earthquake Magnitude Prediction with Machine Learning\n",
    "This notebook follows the methodology outlined in your thesis for predicting earthquake magnitudes."
   ]
  },
  {
   "cell_type": "code",
   "execution_count": null,
   "id": "d14f014c",
   "metadata": {},
   "outputs": [],
   "source": [
    "import pandas as pd\n",
    "from sklearn.ensemble import ExtraTreesRegressor\n",
    "from sklearn.model_selection import train_test_split\n",
    "from sklearn.svm import SVR\n",
    "from sklearn.ensemble import RandomForestRegressor\n",
    "from sklearn.linear_model import Lasso, Ridge\n",
    "from sklearn.metrics import mean_absolute_error, mean_squared_error, r2_score\n",
    "import numpy as np"
   ]
  },
  {
   "cell_type": "markdown",
   "id": "72886364",
   "metadata": {},
   "source": [
    "## Step 1: Load Dataset"
   ]
  },
  {
   "cell_type": "code",
   "execution_count": null,
   "id": "77048ac0",
   "metadata": {},
   "outputs": [],
   "source": [
    "df = pd.read_csv('/mnt/data/thesis_eq_datasety.csv')\n",
    "df.head()"
   ]
  },
  {
   "cell_type": "markdown",
   "id": "0abac8e9",
   "metadata": {},
   "source": [
    "## Step 2: Data Preprocessing\n",
    "Handle missing values using median imputation."
   ]
  },
  {
   "cell_type": "code",
   "execution_count": null,
   "id": "f7b218ff",
   "metadata": {},
   "outputs": [],
   "source": [
    "df.fillna(df.median(numeric_only=True), inplace=True)"
   ]
  },
  {
   "cell_type": "markdown",
   "id": "2f755cd5",
   "metadata": {},
   "source": [
    "## Step 3: Correlation Matrix Analysis\n",
    "Analyze the relationships between features."
   ]
  },
  {
   "cell_type": "code",
   "execution_count": null,
   "id": "af3745dc",
   "metadata": {},
   "outputs": [],
   "source": [
    "correlation_matrix = df[['latitude', 'longitude', 'depth', 'mag', 'nst', 'gap', 'dmin', 'rms']].corr()\n",
    "correlation_matrix"
   ]
  },
  {
   "cell_type": "markdown",
   "id": "7526acc6",
   "metadata": {},
   "source": [
    "## Step 4: Feature Importance using Extra Trees Regressor"
   ]
  },
  {
   "cell_type": "code",
   "execution_count": null,
   "id": "744a03ab",
   "metadata": {},
   "outputs": [],
   "source": [
    "X = df[['latitude', 'longitude', 'depth', 'nst', 'gap', 'dmin', 'rms']]\n",
    "y = df['mag']\n",
    "extra_trees = ExtraTreesRegressor(random_state=42)\n",
    "extra_trees.fit(X, y)\n",
    "feature_importances = pd.DataFrame({'Feature': X.columns, 'Importance': extra_trees.feature_importances_}).sort_values(by='Importance', ascending=False)\n",
    "feature_importances"
   ]
  },
  {
   "cell_type": "markdown",
   "id": "0c065582",
   "metadata": {},
   "source": [
    "## Step 5: Model Training and Evaluation\n",
    "Train multiple models and evaluate their performance."
   ]
  },
  {
   "cell_type": "code",
   "execution_count": null,
   "id": "7680213d",
   "metadata": {},
   "outputs": [],
   "source": [
    "X_train, X_test, y_train, y_test = train_test_split(X, y, test_size=0.2, random_state=42)\n",
    "models = {'SVR': SVR(), 'RandomForest': RandomForestRegressor(random_state=42), 'Lasso': Lasso(), 'Ridge': Ridge()}\n",
    "results = {}\n",
    "for name, model in models.items():\n",
    "    model.fit(X_train, y_train)\n",
    "    y_pred = model.predict(X_test)\n",
    "    mae = mean_absolute_error(y_test, y_pred)\n",
    "    rmse = np.sqrt(mean_squared_error(y_test, y_pred))\n",
    "    r2 = r2_score(y_test, y_pred)\n",
    "    results[name] = {'MAE': mae, 'RMSE': rmse, 'R2': r2}\n",
    "results_df = pd.DataFrame(results).T\n",
    "results_df"
   ]
  }
 ],
 "metadata": {},
 "nbformat": 4,
 "nbformat_minor": 5
}
